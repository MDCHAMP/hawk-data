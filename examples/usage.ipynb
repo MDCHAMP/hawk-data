{
 "cells": [
  {
   "cell_type": "code",
   "execution_count": 1,
   "metadata": {},
   "outputs": [],
   "source": [
    "import numpy as np\n",
    "import matplotlib.pyplot as plt\n",
    "\n",
    "from hawk import SBW"
   ]
  },
  {
   "attachments": {},
   "cell_type": "markdown",
   "metadata": {},
   "source": [
    "## Basic usage\n",
    "\n",
    "The `hawk` package contains the `hawk.SBW` function for interacting with the data from the starboard wing test. During testing, data were collected in both the time and frequency domains as part of two test campaigns named after the measurement equipment. These are:\n",
    "\n",
    "- `LMS` (Frequency domain data)\n",
    "- `NI` (Time domain data)\n",
    "\n",
    "The `hawk.SBW` function provides a convenient wrapper for both of these test campaigns. To start exploring the data, simply call the function with a single argument of the path in which the data should be saved on disk.\n",
    "\n",
    "It is the intention of the authors that the hawk data should be entirely self-describing. In order to facilitate this, the hawk package implements two functions `describe` and `explore`. Let us see the effect of these functions now."
   ]
  },
  {
   "cell_type": "code",
   "execution_count": 2,
   "metadata": {},
   "outputs": [
    {
     "data": {
      "text/plain": [
       "'Header file for Hawk SBW dataset. DOI 10.15131/shef.data.22710040. See documentation for details.'"
      ]
     },
     "execution_count": 2,
     "metadata": {},
     "output_type": "execute_result"
    }
   ],
   "source": [
    "data_dir = \"./hawk_data\"\n",
    "data = SBW(data_dir)\n",
    "data.describe()"
   ]
  },
  {
   "attachments": {},
   "cell_type": "markdown",
   "metadata": {},
   "source": [
    "During the test campaigns a great deal of data were collected. Within the `data` object we created above, the various test series and signals are organised like a file-tree structure. The `describe` method above returns information pertaining to where in the tree we are currently. The `explore` method provides a look at what is contained within the tree beneath us. Lets see the result of calling the `explore` method on `data` (the top of the tree)."
   ]
  },
  {
   "attachments": {},
   "cell_type": "markdown",
   "metadata": {},
   "source": [
    "As expected, this producdes a structured description of which data are available as well as data that is available but is not yet downloaded. \n",
    "\n",
    "Lets now try to access a test series that may or may not be downloaded in `data_dir` form the LMS campaign."
   ]
  },
  {
   "cell_type": "code",
   "execution_count": 3,
   "metadata": {},
   "outputs": [
    {
     "name": "stdout",
     "output_type": "stream",
     "text": [
      "LMS/BR_AR/01 (Burst Random)\n",
      "LMS/BR_AR/01/EXH\n",
      "    coherenceSpectrum (/)\n",
      "    frequencyResponseFunction (g/N)\n",
      "    frf (g/N)\n",
      "    spectra (g)\n",
      "LMS/BR_AR/01/FRC\n",
      "    spectra (N)\n",
      "LMS/BR_AR/01/LLC-01\n",
      "    coherenceSpectrum (/)\n",
      "    frequencyResponseFunction (g/N)\n",
      "    frf (g/N)\n",
      "    spectra (g)\n",
      "LMS/BR_AR/01/LLC-02\n",
      "    coherenceSpectrum (/)\n",
      "    frequencyResponseFunction (g/N)\n",
      "    frf (g/N)\n",
      "    spectra (g)\n",
      "LMS/BR_AR/01/LLC-03\n",
      "    coherenceSpectrum (/)\n",
      "    frequencyResponseFunction (g/N)\n",
      "    frf (g/N)\n",
      "    spectra (g)\n",
      "LMS/BR_AR/01/LLC-04\n",
      "    coherenceSpectrum (/)\n",
      "    frequencyResponseFunction (g/N)\n",
      "    frf (g/N)\n",
      "    spectra (g)\n",
      "LMS/BR_AR/01/LLC-05\n",
      "    coherenceSpectrum (/)\n",
      "    frequencyResponseFunction (g/N)\n",
      "    frf (g/N)\n",
      "    spectra (g)\n",
      "LMS/BR_AR/01/LLC-06\n",
      "    coherenceSpectrum (/)\n",
      "    frequencyResponseFunction (g/N)\n",
      "    frf (g/N)\n",
      "    spectra (g)\n",
      "LMS/BR_AR/01/LLC-07\n",
      "    coherenceSpectrum (/)\n",
      "    frequencyResponseFunction (g/N)\n",
      "    frf (g/N)\n",
      "    spectra (g)\n",
      "LMS/BR_AR/01/LLG-01\n",
      "    coherenceSpectrum (/)\n",
      "    frequencyResponseFunction (g/N)\n",
      "    frf (g/N)\n",
      "    spectra (g)\n",
      "LMS/BR_AR/01/LLG-02\n",
      "    coherenceSpectrum (/)\n",
      "    frequencyResponseFunction (g/N)\n",
      "    frf (g/N)\n",
      "    spectra (g)\n",
      "LMS/BR_AR/01/LLG-03\n",
      "    coherenceSpectrum (/)\n",
      "    frequencyResponseFunction (g/N)\n",
      "    frf (g/N)\n",
      "    spectra (g)\n",
      "LMS/BR_AR/01/LLG-04\n",
      "    coherenceSpectrum (/)\n",
      "    frequencyResponseFunction (g/N)\n",
      "    frf (g/N)\n",
      "    spectra (g)\n",
      "LMS/BR_AR/01/LLG-05\n",
      "    coherenceSpectrum (/)\n",
      "    frequencyResponseFunction (g/N)\n",
      "    frf (g/N)\n",
      "    spectra (g)\n",
      "LMS/BR_AR/01/LLG-06\n",
      "    coherenceSpectrum (/)\n",
      "    frequencyResponseFunction (g/N)\n",
      "    frf (g/N)\n",
      "    spectra (g)\n",
      "LMS/BR_AR/01/LRT-01\n",
      "    coherenceSpectrum (/)\n",
      "    frequencyResponseFunction (g/N)\n",
      "    frf (g/N)\n",
      "    spectra (g)\n",
      "LMS/BR_AR/01/LRT-02\n",
      "    coherenceSpectrum (/)\n",
      "    frequencyResponseFunction (g/N)\n",
      "    frf (g/N)\n",
      "    spectra (g)\n",
      "LMS/BR_AR/01/LRT-03\n",
      "    coherenceSpectrum (/)\n",
      "    frequencyResponseFunction (g/N)\n",
      "    frf (g/N)\n",
      "    spectra (g)\n",
      "LMS/BR_AR/01/LRT-04\n",
      "    coherenceSpectrum (/)\n",
      "    frequencyResponseFunction (g/N)\n",
      "    frf (g/N)\n",
      "    spectra (g)\n",
      "LMS/BR_AR/01/LTC-01\n",
      "    coherenceSpectrum (/)\n",
      "    frequencyResponseFunction (g/N)\n",
      "    frf (g/N)\n",
      "    spectra (g)\n",
      "LMS/BR_AR/01/LTC-02\n",
      "    coherenceSpectrum (/)\n",
      "    frequencyResponseFunction (g/N)\n",
      "    frf (g/N)\n",
      "    spectra (g)\n",
      "LMS/BR_AR/01/LTC-03\n",
      "    coherenceSpectrum (/)\n",
      "    frequencyResponseFunction (g/N)\n",
      "    frf (g/N)\n",
      "    spectra (g)\n",
      "LMS/BR_AR/01/LTC-04\n",
      "    coherenceSpectrum (/)\n",
      "    frequencyResponseFunction (g/N)\n",
      "    frf (g/N)\n",
      "    spectra (g)\n",
      "LMS/BR_AR/01/LTC-05\n",
      "    coherenceSpectrum (/)\n",
      "    frequencyResponseFunction (g/N)\n",
      "    frf (g/N)\n",
      "    spectra (g)\n",
      "LMS/BR_AR/01/LTC-06\n",
      "    coherenceSpectrum (/)\n",
      "    frequencyResponseFunction (g/N)\n",
      "    frf (g/N)\n",
      "    spectra (g)\n",
      "LMS/BR_AR/01/LTC-07\n",
      "    coherenceSpectrum (/)\n",
      "    frequencyResponseFunction (g/N)\n",
      "    frf (g/N)\n",
      "    spectra (g)\n",
      "LMS/BR_AR/01/TRI-X\n",
      "    coherenceSpectrum (/)\n",
      "    frequencyResponseFunction (g/N)\n",
      "    frf (g/N)\n",
      "    spectra (g)\n",
      "LMS/BR_AR/01/TRI-Y\n",
      "    coherenceSpectrum (/)\n",
      "    frequencyResponseFunction (g/N)\n",
      "    frf (g/N)\n",
      "    spectra (g)\n",
      "LMS/BR_AR/01/TRI-Z\n",
      "    coherenceSpectrum (/)\n",
      "    frequencyResponseFunction (g/N)\n",
      "    frf (g/N)\n",
      "    spectra (g)\n",
      "LMS/BR_AR/01/ULC-01\n",
      "    coherenceSpectrum (/)\n",
      "    frequencyResponseFunction (g/N)\n",
      "    frf (g/N)\n",
      "    spectra (g)\n",
      "LMS/BR_AR/01/ULC-02\n",
      "    coherenceSpectrum (/)\n",
      "    frequencyResponseFunction (g/N)\n",
      "    frf (g/N)\n",
      "    spectra (g)\n",
      "LMS/BR_AR/01/ULC-03\n",
      "    coherenceSpectrum (/)\n",
      "    frequencyResponseFunction (g/N)\n",
      "    frf (g/N)\n",
      "    spectra (g)\n",
      "LMS/BR_AR/01/ULC-04\n",
      "    coherenceSpectrum (/)\n",
      "    frequencyResponseFunction (g/N)\n",
      "    frf (g/N)\n",
      "    spectra (g)\n",
      "LMS/BR_AR/01/ULC-05\n",
      "    coherenceSpectrum (/)\n",
      "    frequencyResponseFunction (g/N)\n",
      "    frf (g/N)\n",
      "    spectra (g)\n",
      "LMS/BR_AR/01/ULC-06\n",
      "    coherenceSpectrum (/)\n",
      "    frequencyResponseFunction (g/N)\n",
      "    frf (g/N)\n",
      "    spectra (g)\n",
      "LMS/BR_AR/01/ULC-07\n",
      "    coherenceSpectrum (/)\n",
      "    frequencyResponseFunction (g/N)\n",
      "    frf (g/N)\n",
      "    spectra (g)\n",
      "LMS/BR_AR/01/ULE-01\n",
      "    coherenceSpectrum (/)\n",
      "    frequencyResponseFunction (g/N)\n",
      "    frf (g/N)\n",
      "    spectra (g)\n",
      "LMS/BR_AR/01/ULE-02\n",
      "    coherenceSpectrum (/)\n",
      "    frequencyResponseFunction (g/N)\n",
      "    frf (g/N)\n",
      "    spectra (g)\n",
      "LMS/BR_AR/01/ULE-03\n",
      "    coherenceSpectrum (/)\n",
      "    frequencyResponseFunction (g/N)\n",
      "    frf (g/N)\n",
      "    spectra (g)\n",
      "LMS/BR_AR/01/ULE-04\n",
      "    coherenceSpectrum (/)\n",
      "    frequencyResponseFunction (g/N)\n",
      "    frf (g/N)\n",
      "    spectra (g)\n",
      "LMS/BR_AR/01/ULE-05\n",
      "    coherenceSpectrum (/)\n",
      "    frequencyResponseFunction (g/N)\n",
      "    frf (g/N)\n",
      "    spectra (g)\n",
      "LMS/BR_AR/01/ULE-06\n",
      "    coherenceSpectrum (/)\n",
      "    frequencyResponseFunction (g/N)\n",
      "    frf (g/N)\n",
      "    spectra (g)\n",
      "LMS/BR_AR/01/ULE-07\n",
      "    coherenceSpectrum (/)\n",
      "    frequencyResponseFunction (g/N)\n",
      "    frf (g/N)\n",
      "    spectra (g)\n",
      "LMS/BR_AR/01/URT-01\n",
      "    coherenceSpectrum (/)\n",
      "    frequencyResponseFunction (g/N)\n",
      "    frf (g/N)\n",
      "    spectra (g)\n",
      "LMS/BR_AR/01/URT-02\n",
      "    coherenceSpectrum (/)\n",
      "    frequencyResponseFunction (g/N)\n",
      "    frf (g/N)\n",
      "    spectra (g)\n",
      "LMS/BR_AR/01/URT-03\n",
      "    coherenceSpectrum (/)\n",
      "    frequencyResponseFunction (g/N)\n",
      "    frf (g/N)\n",
      "    spectra (g)\n",
      "LMS/BR_AR/01/UTC-01\n",
      "    coherenceSpectrum (/)\n",
      "    frequencyResponseFunction (g/N)\n",
      "    frf (g/N)\n",
      "    spectra (g)\n",
      "LMS/BR_AR/01/UTC-02\n",
      "    coherenceSpectrum (/)\n",
      "    frequencyResponseFunction (g/N)\n",
      "    frf (g/N)\n",
      "    spectra (g)\n",
      "LMS/BR_AR/01/UTC-03\n",
      "    coherenceSpectrum (/)\n",
      "    frequencyResponseFunction (g/N)\n",
      "    frf (g/N)\n",
      "    spectra (g)\n",
      "LMS/BR_AR/01/UTC-04\n",
      "    coherenceSpectrum (/)\n",
      "    frequencyResponseFunction (g/N)\n",
      "    frf (g/N)\n",
      "    spectra (g)\n",
      "LMS/BR_AR/01/UTC-05\n",
      "    coherenceSpectrum (/)\n",
      "    frequencyResponseFunction (g/N)\n",
      "    frf (g/N)\n",
      "    spectra (g)\n",
      "LMS/BR_AR/01/UTC-06\n",
      "    coherenceSpectrum (/)\n",
      "    frequencyResponseFunction (g/N)\n",
      "    frf (g/N)\n",
      "    spectra (g)\n",
      "LMS/BR_AR/01/UTC-07\n",
      "    coherenceSpectrum (/)\n",
      "    frequencyResponseFunction (g/N)\n",
      "    frf (g/N)\n",
      "    spectra (g)\n",
      "LMS/BR_AR/01/UTE-01\n",
      "    coherenceSpectrum (/)\n",
      "    frequencyResponseFunction (g/N)\n",
      "    frf (g/N)\n",
      "    spectra (g)\n",
      "LMS/BR_AR/01/UTE-02\n",
      "    coherenceSpectrum (/)\n",
      "    frequencyResponseFunction (g/N)\n",
      "    frf (g/N)\n",
      "    spectra (g)\n",
      "LMS/BR_AR/01/UTE-03\n",
      "    coherenceSpectrum (/)\n",
      "    frequencyResponseFunction (g/N)\n",
      "    frf (g/N)\n",
      "    spectra (g)\n",
      "LMS/BR_AR/01/UTE-04\n",
      "    coherenceSpectrum (/)\n",
      "    frequencyResponseFunction (g/N)\n",
      "    frf (g/N)\n",
      "    spectra (g)\n",
      "LMS/BR_AR/01/UTE-05\n",
      "    coherenceSpectrum (/)\n",
      "    frequencyResponseFunction (g/N)\n",
      "    frf (g/N)\n",
      "    spectra (g)\n",
      "LMS/BR_AR/01/UTE-06\n",
      "    coherenceSpectrum (/)\n",
      "    frequencyResponseFunction (g/N)\n",
      "    frf (g/N)\n",
      "    spectra (g)\n",
      "LMS/BR_AR/01/UTE-07\n",
      "    coherenceSpectrum (/)\n",
      "    frequencyResponseFunction (g/N)\n",
      "    frf (g/N)\n",
      "    spectra (g)\n"
     ]
    }
   ],
   "source": [
    "series = 'BR_AR' # i.e Burst-random amplitude-ramp \n",
    "rep = '01'\n",
    "test_series = data[\"LMS\"][series][rep]\n",
    "test_series.explore()"
   ]
  },
  {
   "attachments": {},
   "cell_type": "markdown",
   "metadata": {},
   "source": [
    "Just by accessing the data in our code, the relevant files have been downloded and saved to disk in `data_dir`. If we were to access the data again, the downloaded copy wold be used automatically. \n",
    "\n",
    "Looking at the output of the `explore` function, we can see that there are a number of sensor addresses and for each one we are able to access three signals; the coherence, spectra and FRF. These signals are directly recovered form the 'LMS-box' measurement system.\n",
    "\n",
    "Lets now take a look at the output of the `describe` function:"
   ]
  },
  {
   "cell_type": "code",
   "execution_count": 4,
   "metadata": {},
   "outputs": [
    {
     "data": {
      "text/plain": [
       "{'testCampaign': 'LMS',\n",
       " 'testSeries': 'BR_AR',\n",
       " 'testRepeat': '01',\n",
       " 'acquisitionSampleRate': 'N/a',\n",
       " 'addedMass': '0',\n",
       " 'ampLevelPercent': '50',\n",
       " 'burstTimePercent': '90',\n",
       " 'controlIteration': 'N/a',\n",
       " 'controlLoop': 'Open',\n",
       " 'date': '14/01/2022 10:32:33',\n",
       " 'excitationType': 'Burst Random',\n",
       " 'notes': '',\n",
       " 'operator': 'MHA',\n",
       " 'randomSeed': 'N/a',\n",
       " 'recordingBandwith': '256',\n",
       " 'repetitions': 10,\n",
       " 'spectralLines': '8192'}"
      ]
     },
     "execution_count": 4,
     "metadata": {},
     "output_type": "execute_result"
    }
   ],
   "source": [
    "test_series.describe()"
   ]
  },
  {
   "attachments": {},
   "cell_type": "markdown",
   "metadata": {},
   "source": [
    "This is simply a python `dict` with all the details of the test setup, senor metadata and notes from the operators -- handy!\n",
    "\n",
    "Lets look now at one of the sensors. Sensors are accesed by their key. For more information on sensor locations please see [LINK TO PIC]."
   ]
  },
  {
   "cell_type": "code",
   "execution_count": 5,
   "metadata": {},
   "outputs": [
    {
     "name": "stdout",
     "output_type": "stream",
     "text": [
      "LMS/BR_AR/01/LLC-07\n",
      "    coherenceSpectrum (/)\n",
      "    frequencyResponseFunction (g/N)\n",
      "    frf (g/N)\n",
      "    spectra (g)\n"
     ]
    }
   ],
   "source": [
    "sensor = \"LLC-07\"  # Lower leading edge centre position 7 (wing tip)\n",
    "sensor_data = test_series[sensor]\n",
    "sensor_data.explore()"
   ]
  },
  {
   "attachments": {},
   "cell_type": "markdown",
   "metadata": {},
   "source": [
    "As expected, there are three channels (`frf` is simply shorthand for `frequencyResponseFunction`). \n",
    "\n",
    "Lets (finally) plot the data:"
   ]
  },
  {
   "cell_type": "code",
   "execution_count": 6,
   "metadata": {},
   "outputs": [
    {
     "name": "stdout",
     "output_type": "stream",
     "text": [
      "(8193, 10)\n"
     ]
    },
    {
     "data": {
      "image/png": "[encoded data removed]",
      "text/plain": [
       "<Figure size 640x480 with 1 Axes>"
      ]
     },
     "metadata": {},
     "output_type": "display_data"
    }
   ],
   "source": [
    "signal = \"frequencyResponseFunction\"\n",
    "frfs = sensor_data[signal]\n",
    "print(frfs.shape) # (spectralLines, Nrepeats)\n",
    "\n",
    "# Grab the frequency information from the xData group\n",
    "fs = data['LMS/xData/freq'] \n",
    "\n",
    "plt.figure()\n",
    "plt.semilogy(fs[:], np.abs(frfs[:]))\n",
    "# note that the units can be pulled directly from the data\n",
    "plt.xlabel(f\"{fs.attrs['measurement']} ({fs.attrs['units']})\") \n",
    "plt.ylabel(f\"{frfs.attrs['measurement']} ({frfs.attrs['units']})\")\n",
    "plt.show()"
   ]
  },
  {
   "attachments": {},
   "cell_type": "markdown",
   "metadata": {},
   "source": [
    "Note that the metadata corresponding to the signals we are plotting is available in the `attrs` attribute of the dataset - how convenient!\n",
    "\n",
    "So far we have taken a roundabout may of accessing the FRFs. Instead, we could have just used the path to the data we were interested in:"
   ]
  },
  {
   "cell_type": "code",
   "execution_count": 7,
   "metadata": {},
   "outputs": [
    {
     "data": {
      "text/plain": [
       "{'testCampaign': 'LMS',\n",
       " 'testSeries': 'BR_AR',\n",
       " 'testRepeat': '01',\n",
       " 'sensorID': 'LLC-07',\n",
       " 'singalType': 'frequencyResponseFunction',\n",
       " 'measurement': 'Frequency Response Function',\n",
       " 'units': 'g/N',\n",
       " 'X': 3855,\n",
       " 'Y': 485,\n",
       " 'Z': -90,\n",
       " 'assettNumber': 189,\n",
       " 'gain': 10.69,\n",
       " 'gainDate': '',\n",
       " 'gainUnits': 'mV/g',\n",
       " 'locationUnits': 'mm',\n",
       " 'manufacturer': 'PCB Piezotronics',\n",
       " 'model': 'M353B18',\n",
       " 'acquisitionSampleRate': 'N/a',\n",
       " 'addedMass': '0',\n",
       " 'ampLevelPercent': '50',\n",
       " 'burstTimePercent': '90',\n",
       " 'controlIteration': 'N/a',\n",
       " 'controlLoop': 'Open',\n",
       " 'date': '14/01/2022 10:32:33',\n",
       " 'excitationType': 'Burst Random',\n",
       " 'notes': '',\n",
       " 'operator': 'MHA',\n",
       " 'randomSeed': 'N/a',\n",
       " 'recordingBandwith': '256',\n",
       " 'repetitions': 10,\n",
       " 'spectralLines': '8192'}"
      ]
     },
     "execution_count": 7,
     "metadata": {},
     "output_type": "execute_result"
    }
   ],
   "source": [
    "# note that we can access data directly from its path\n",
    "frfs = data['/LMS/BR_AR/01/LLC-01/frf']\n",
    "# or even\n",
    "frfs = data[f'/LMS/{series}/{rep}/{sensor}/{signal}']\n",
    "frfs.describe()"
   ]
  },
  {
   "attachments": {},
   "cell_type": "markdown",
   "metadata": {},
   "source": [
    "Note the general form of the path:\n",
    "\n",
    "`/{campaign}/{series}/{rep}/{sensor}/{signal}`\n",
    "\n",
    "For more information on the possible values of these fields please see the data report available at [LINK TO DATA REPORT]. \n",
    "\n",
    "Lets now take a look at some of the time series data:"
   ]
  },
  {
   "cell_type": "code",
   "execution_count": 8,
   "metadata": {},
   "outputs": [
    {
     "name": "stdout",
     "output_type": "stream",
     "text": [
      "(32766, 10)\n"
     ]
    },
    {
     "data": {
      "image/png": "[encoded data removed]",
      "text/plain": [
       "<Figure size 640x480 with 1 Axes>"
      ]
     },
     "metadata": {},
     "output_type": "display_data"
    },
    {
     "data": {
      "text/plain": [
       "{'testCampaign': 'NI',\n",
       " 'testSeries': 'RPH_AR',\n",
       " 'testRepeat': '01',\n",
       " 'sensorID': 'LLC-01',\n",
       " 'singalType': 'acc',\n",
       " 'measurement': 'acceleration',\n",
       " 'sampleRate': 2048.0,\n",
       " 'startTime': '2022-06-22T10:47:08.847278',\n",
       " 'units': 'g',\n",
       " 'X': 0,\n",
       " 'Y': 1045,\n",
       " 'Z': -90,\n",
       " 'assettNumber': 151,\n",
       " 'gain': 10.36,\n",
       " 'gainDate': '',\n",
       " 'gainUnits': 'mV/g',\n",
       " 'locationUnits': 'mm',\n",
       " 'manufacturer': 'PCB Piezotronics',\n",
       " 'model': 'M353B18',\n",
       " 'ExcitationSpectralLines': '16384',\n",
       " 'acquisitionSampleRate': '2048',\n",
       " 'addedMass': '0',\n",
       " 'ampLevelPercent': '50',\n",
       " 'burstTimePercent': '90',\n",
       " 'controlIteration': '3',\n",
       " 'controlLoop': 'Closed Loop',\n",
       " 'date': '22/06/2022 11:54:27',\n",
       " 'excitationType': 'Random Phase Multisine',\n",
       " 'notes': 'Accidentally bumped plane on repetition 2 (minor bump starboard cockpit).',\n",
       " 'operator': 'MDC',\n",
       " 'randomSeed': '122125',\n",
       " 'referenceAmplitudeValuesV': '1e-15, 0.4, 0.4, 1e-15',\n",
       " 'referenceFrequencyValuesHz': '5, 50, 200, 256',\n",
       " 'repetitions': 10}"
      ]
     },
     "execution_count": 8,
     "metadata": {},
     "output_type": "execute_result"
    }
   ],
   "source": [
    "ts = data['NI/xData/time']\n",
    "accs = data['NI/RPH_AR/01/LLC-01/acc']\n",
    "print(accs.shape) # (timePoints, Nrepeats)\n",
    "\n",
    "plt.figure()\n",
    "plt.plot(ts[:], accs[:])\n",
    "plt.xlabel(f\"{ts.attrs['measurement']} ({ts.attrs['units']})\") \n",
    "plt.ylabel(f\"{accs.attrs['measurement']} ({accs.attrs['units']})\")\n",
    "plt.show()\n",
    "\n",
    "# Can access a full description of the test setup\n",
    "accs.describe()"
   ]
  },
  {
   "attachments": {},
   "cell_type": "markdown",
   "metadata": {},
   "source": [
    "In just a few lines of python code we have downloaded and plotted the dat alongside all of the relevant metadata. "
   ]
  },
  {
   "attachments": {},
   "cell_type": "markdown",
   "metadata": {},
   "source": [
    "## Advanced/production usage\n",
    "\n",
    "So far we have seen how to access and explore the data. Lets now cover some more realistic usage scenarios.\n",
    "\n",
    "Under the hood, all the data that is downloaded is in `.hdf5` format. This means that instead of using the `hawk` package you could instead use any off the shelf `.hdf5` viewing software. In fact, the `hawk` package is actually just a very simple wrapper for the `h5py` [link here] packcage that adds functionality for the `describe`, `explore` methods and manages automatic downloads -- neat!\n",
    "\n",
    "Because the data is stored in `.hdf5` format, it is only read from disk when it is needed by the python program. This means that python keeps open (several) file objects while interacting with the data. To prevent corruption and other bugs, files in python should always be closed when they are not bieng used. Thankfully, the `SBW` function support python context managers. "
   ]
  },
  {
   "cell_type": "code",
   "execution_count": 9,
   "metadata": {},
   "outputs": [
    {
     "data": {
      "text/plain": [
       "(8193, 10)"
      ]
     },
     "execution_count": 9,
     "metadata": {},
     "output_type": "execute_result"
    }
   ],
   "source": [
    "with SBW(data_dir) as data:\n",
    "\n",
    "    frfs = data['/LMS/BR_AR/01/LLC-01/frf']\n",
    "    frfs_numpy = np.array(data['/LMS/BR_AR/01/LLC-01/frf'])\n",
    "\n",
    "try:\n",
    "    data['/LMS/BR_AR/01/LLC-01/frf'].shape # This fails because the file is now closed\n",
    "except ValueError:\n",
    "    pass\n",
    "\n",
    "frfs.shape # this is ok because the variable frfs is still referenced BUT internal references may be broken\n",
    "frfs_numpy.shape # this will always be ok and should be considered best practice"
   ]
  },
  {
   "attachments": {},
   "cell_type": "markdown",
   "metadata": {},
   "source": [
    "Notice that once outside the context manager, the `data` object can no longer be interacted with. In the above, the variable `frf` maintains a link to the file object and so can still be accessed, however, internal links may be broken and so this behavouir should also be avoided.\n",
    "\n",
    "You may have noticed in the plotting code above that the data were sliced into the `plot` function. This is because although the underlying `h5py.Dataset` implements some of the same functionality as `np.ndarray`, it cannot be considered a drop-in replacement.  \n",
    "\n",
    "For best practice in production code, the required data should be cast to numpy arrays inside the context manager. There are several ways to achive this:"
   ]
  },
  {
   "cell_type": "code",
   "execution_count": 10,
   "metadata": {},
   "outputs": [
    {
     "name": "stdout",
     "output_type": "stream",
     "text": [
      "<class 'h5py._hl.dataset.Dataset'>\n",
      "<class 'numpy.ndarray'>\n",
      "<class 'numpy.ndarray'>\n",
      "<class 'numpy.ndarray'>\n"
     ]
    }
   ],
   "source": [
    "with SBW(data_dir) as data:\n",
    "\n",
    "    frf1 = data['/LMS/BR_AR/01/LLC-01/frf']\n",
    "    frf2 = np.array(data['/LMS/BR_AR/01/LLC-01/frf']) # return np.ndarray\n",
    "    frf3 = data['/LMS/BR_AR/01/LLC-01/frf'][:] # also returns np.ndarray\n",
    "    frf4 = data['/LMS/BR_AR/01/LLC-01/frf'][:100] # also returns np.ndarray (simple sliceing only)\n",
    "\n",
    "print(type(frf1))\n",
    "print(type(frf2))\n",
    "print(type(frf3))\n",
    "print(type(frf4))\n"
   ]
  },
  {
   "attachments": {},
   "cell_type": "markdown",
   "metadata": {},
   "source": [
    "### Dataset structure\n",
    "\n",
    "In order to avoid downloading all the data every time, the dataset has been divided into a number of independent files, each one correspondiong to one of the test series repeats. Overall there are 71 test series. \n",
    "\n",
    "The `hawk` package relies on a single 'header' `.hdf5` file for accessing all of the data simultaneously without loading it all in to memory (or even having all of the data on disk). This works thanks to the `ExternalLink` feature of the `.hdf5` spec, more details of which can be found at [LINK HERE]."
   ]
  }
 ],
 "metadata": {
  "kernelspec": {
   "display_name": "Python 3",
   "language": "python",
   "name": "python3"
  },
  "language_info": {
   "codemirror_mode": {
    "name": "ipython",
    "version": 3
   },
   "file_extension": ".py",
   "mimetype": "text/x-python",
   "name": "python",
   "nbconvert_exporter": "python",
   "pygments_lexer": "ipython3",
   "version": "3.11.1"
  },
  "orig_nbformat": 4
 },
 "nbformat": 4,
 "nbformat_minor": 2
}
