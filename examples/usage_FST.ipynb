{
 "cells": [
  {
   "attachments": {},
   "cell_type": "markdown",
   "metadata": {},
   "source": [
    "\n",
    "# Hawk data full structure test data API\n",
    "\n",
    "The aim of this notebook is to guide the user through the use of the API package `hawk` for interacting with the data series collected as part of the TRIC-DT project at the [LVV](https://www.turing.ac.uk/research/research-projects/tric-dt) in Sheffield in 2024 In order to use this notebook, the hawk package is required. The package is freely available and can be installed with pip (requres python 3.9+):\n",
    "\n",
    "`pip install git+https://github.com/MDCHAMP/hawk-data`\n",
    "\n",
    "For basic usage of the `hawk` package for interacting with data collected on the aircraft see the [starboard wing test](https://figshare.com/s/88e34cc543ff5aeeb9f4) and related documentation.\n",
    " "
   ]
  },
  {
   "attachments": {},
   "cell_type": "markdown",
   "metadata": {},
   "source": [
    "![The hawk aircraft att the LVV in SHeffield.](figures\\Hawk_clean.jpg)"
   ]
  },
  {
   "cell_type": "code",
   "execution_count": null,
   "metadata": {},
   "outputs": [],
   "source": [
    "import numpy as np\n",
    "import matplotlib.pyplot as plt\n",
    "import seaborn as sns\n",
    "\n",
    "sns.set_theme(\"notebook\")\n",
    "sns.set_style(\"ticks\")\n",
    "sns.set_palette(\"Set2\")\n",
    "\n",
    "from hawk import FST"
   ]
  },
  {
   "attachments": {},
   "cell_type": "markdown",
   "metadata": {},
   "source": [
    "## Basic usage\n",
    "\n",
    "The `hawk` package contains the `hawk.FST` function for interacting with the data from the starboard wing test. \n"
   ]
  },
  {
   "cell_type": "code",
   "execution_count": null,
   "metadata": {},
   "outputs": [],
   "source": [
    "data_dir = \"./hawk_data\"\n",
    "data = FST(data_dir)\n",
    "data.describe()"
   ]
  },
  {
   "attachments": {},
   "cell_type": "markdown",
   "metadata": {},
   "source": [
    "During the test campaigns a great deal of data were collected. Within the `data` object we created above, the various test series and signals are organised like a file-tree structure. The `describe` method above returns information pertaining to where in the tree we are currently. The `explore` method provides a look at what is contained within the tree beneath us. Lets see the result of calling the `explore` method on `data` (the top of the tree)."
   ]
  },
  {
   "cell_type": "code",
   "execution_count": null,
   "metadata": {},
   "outputs": [],
   "source": [
    "data.explore(2)"
   ]
  },
  {
   "attachments": {},
   "cell_type": "markdown",
   "metadata": {},
   "source": [
    "As expected, this produces a structured description of which test series are available. The only argument controls the depth through the tree that the `explore` function will search. \n",
    "\n",
    "Lets now try to access a test series that may or may not be downloaded in `data_dir`."
   ]
  },
  {
   "cell_type": "code",
   "execution_count": null,
   "metadata": {},
   "outputs": [],
   "source": [
    "test_series = data['HS_WN_01'] # whie noise healthy state 01\n",
    "test_series.explore(1)"
   ]
  },
  {
   "attachments": {},
   "cell_type": "markdown",
   "metadata": {},
   "source": [
    "Just by accessing the data in our code, the relevant files have been downloaded and saved to disk in `data_dir`. If we were to access the data again, the downloaded data wold be used automatically. \n",
    "\n",
    "Looking at the output of the `explore` function, we can see that there are a number of sensor addresses, lets now take a look at the output of the `describe` function:"
   ]
  },
  {
   "cell_type": "code",
   "execution_count": null,
   "metadata": {},
   "outputs": [],
   "source": [
    "test_series.describe()"
   ]
  },
  {
   "cell_type": "code",
   "execution_count": null,
   "metadata": {},
   "outputs": [],
   "source": [
    "sensor = \"LLC-07\"  # Lower leading edge central position 07 (wing tip)\n",
    "sensor_data = test_series[sensor]\n",
    "sensor_data.explore(1)"
   ]
  },
  {
   "attachments": {},
   "cell_type": "markdown",
   "metadata": {},
   "source": [
    "### Dataset structure\n",
    "\n",
    "In order to avoid downloading all the data every time, the dataset has been divided into a number of independent files, each one corresponding to one of the test series repeats. Overall there are 71 test series. \n",
    "\n",
    "The `hawk` package relies on a single 'header' `.hdf5` file for accessing all of the data simultaneously without loading it all in to memory (or even having all of the data on disk). This works thanks to the `ExternalLink` feature of the `.hdf5` spec, more details of which can be found [here](https://figshare.com/s/88e34cc543ff5aeeb9f4)."
   ]
  }
 ],
 "metadata": {
  "kernelspec": {
   "display_name": "Python 3",
   "language": "python",
   "name": "python3"
  },
  "language_info": {
   "codemirror_mode": {
    "name": "ipython",
    "version": 3
   },
   "file_extension": ".py",
   "mimetype": "text/x-python",
   "name": "python",
   "nbconvert_exporter": "python",
   "pygments_lexer": "ipython3",
   "version": "3.11.1"
  },
  "orig_nbformat": 4
 },
 "nbformat": 4,
 "nbformat_minor": 2
}
